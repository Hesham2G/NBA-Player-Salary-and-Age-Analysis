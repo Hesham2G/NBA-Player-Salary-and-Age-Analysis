{
 "cells": [
  {
   "cell_type": "code",
   "execution_count": 1,
   "metadata": {},
   "outputs": [],
   "source": [
    "import numpy as np\n",
    "import pandas as pd\n",
    "import matplotlib.pyplot as plt "
   ]
  },
  {
   "cell_type": "code",
   "execution_count": 10,
   "metadata": {},
   "outputs": [
    {
     "data": {
      "text/html": [
       "<div>\n",
       "<style scoped>\n",
       "    .dataframe tbody tr th:only-of-type {\n",
       "        vertical-align: middle;\n",
       "    }\n",
       "\n",
       "    .dataframe tbody tr th {\n",
       "        vertical-align: top;\n",
       "    }\n",
       "\n",
       "    .dataframe thead th {\n",
       "        text-align: right;\n",
       "    }\n",
       "</style>\n",
       "<table border=\"1\" class=\"dataframe\">\n",
       "  <thead>\n",
       "    <tr style=\"text-align: right;\">\n",
       "      <th></th>\n",
       "      <th>Name</th>\n",
       "      <th>Team</th>\n",
       "      <th>Number</th>\n",
       "      <th>Position</th>\n",
       "      <th>Age</th>\n",
       "      <th>Height</th>\n",
       "      <th>Weight</th>\n",
       "      <th>College</th>\n",
       "      <th>Salary</th>\n",
       "    </tr>\n",
       "  </thead>\n",
       "  <tbody>\n",
       "    <tr>\n",
       "      <th>0</th>\n",
       "      <td>Avery Bradley</td>\n",
       "      <td>Boston Celtics</td>\n",
       "      <td>0.0</td>\n",
       "      <td>PG</td>\n",
       "      <td>25.0</td>\n",
       "      <td>6-2</td>\n",
       "      <td>180.0</td>\n",
       "      <td>Texas</td>\n",
       "      <td>7730337.0</td>\n",
       "    </tr>\n",
       "    <tr>\n",
       "      <th>1</th>\n",
       "      <td>Jae Crowder</td>\n",
       "      <td>Boston Celtics</td>\n",
       "      <td>99.0</td>\n",
       "      <td>SF</td>\n",
       "      <td>25.0</td>\n",
       "      <td>6-6</td>\n",
       "      <td>235.0</td>\n",
       "      <td>Marquette</td>\n",
       "      <td>6796117.0</td>\n",
       "    </tr>\n",
       "    <tr>\n",
       "      <th>2</th>\n",
       "      <td>John Holland</td>\n",
       "      <td>Boston Celtics</td>\n",
       "      <td>30.0</td>\n",
       "      <td>SG</td>\n",
       "      <td>27.0</td>\n",
       "      <td>6-5</td>\n",
       "      <td>205.0</td>\n",
       "      <td>Boston University</td>\n",
       "      <td>NaN</td>\n",
       "    </tr>\n",
       "    <tr>\n",
       "      <th>3</th>\n",
       "      <td>R.J. Hunter</td>\n",
       "      <td>Boston Celtics</td>\n",
       "      <td>28.0</td>\n",
       "      <td>SG</td>\n",
       "      <td>22.0</td>\n",
       "      <td>6-5</td>\n",
       "      <td>185.0</td>\n",
       "      <td>Georgia State</td>\n",
       "      <td>1148640.0</td>\n",
       "    </tr>\n",
       "    <tr>\n",
       "      <th>4</th>\n",
       "      <td>Jonas Jerebko</td>\n",
       "      <td>Boston Celtics</td>\n",
       "      <td>8.0</td>\n",
       "      <td>PF</td>\n",
       "      <td>29.0</td>\n",
       "      <td>6-10</td>\n",
       "      <td>231.0</td>\n",
       "      <td>NaN</td>\n",
       "      <td>5000000.0</td>\n",
       "    </tr>\n",
       "    <tr>\n",
       "      <th>...</th>\n",
       "      <td>...</td>\n",
       "      <td>...</td>\n",
       "      <td>...</td>\n",
       "      <td>...</td>\n",
       "      <td>...</td>\n",
       "      <td>...</td>\n",
       "      <td>...</td>\n",
       "      <td>...</td>\n",
       "      <td>...</td>\n",
       "    </tr>\n",
       "    <tr>\n",
       "      <th>453</th>\n",
       "      <td>Shelvin Mack</td>\n",
       "      <td>Utah Jazz</td>\n",
       "      <td>8.0</td>\n",
       "      <td>PG</td>\n",
       "      <td>26.0</td>\n",
       "      <td>6-3</td>\n",
       "      <td>203.0</td>\n",
       "      <td>Butler</td>\n",
       "      <td>2433333.0</td>\n",
       "    </tr>\n",
       "    <tr>\n",
       "      <th>454</th>\n",
       "      <td>Raul Neto</td>\n",
       "      <td>Utah Jazz</td>\n",
       "      <td>25.0</td>\n",
       "      <td>PG</td>\n",
       "      <td>24.0</td>\n",
       "      <td>6-1</td>\n",
       "      <td>179.0</td>\n",
       "      <td>NaN</td>\n",
       "      <td>900000.0</td>\n",
       "    </tr>\n",
       "    <tr>\n",
       "      <th>455</th>\n",
       "      <td>Tibor Pleiss</td>\n",
       "      <td>Utah Jazz</td>\n",
       "      <td>21.0</td>\n",
       "      <td>C</td>\n",
       "      <td>26.0</td>\n",
       "      <td>7-3</td>\n",
       "      <td>256.0</td>\n",
       "      <td>NaN</td>\n",
       "      <td>2900000.0</td>\n",
       "    </tr>\n",
       "    <tr>\n",
       "      <th>456</th>\n",
       "      <td>Jeff Withey</td>\n",
       "      <td>Utah Jazz</td>\n",
       "      <td>24.0</td>\n",
       "      <td>C</td>\n",
       "      <td>26.0</td>\n",
       "      <td>7-0</td>\n",
       "      <td>231.0</td>\n",
       "      <td>Kansas</td>\n",
       "      <td>947276.0</td>\n",
       "    </tr>\n",
       "    <tr>\n",
       "      <th>457</th>\n",
       "      <td>NaN</td>\n",
       "      <td>NaN</td>\n",
       "      <td>NaN</td>\n",
       "      <td>NaN</td>\n",
       "      <td>NaN</td>\n",
       "      <td>NaN</td>\n",
       "      <td>NaN</td>\n",
       "      <td>NaN</td>\n",
       "      <td>NaN</td>\n",
       "    </tr>\n",
       "  </tbody>\n",
       "</table>\n",
       "<p>458 rows × 9 columns</p>\n",
       "</div>"
      ],
      "text/plain": [
       "              Name            Team  Number Position   Age Height  Weight  \\\n",
       "0    Avery Bradley  Boston Celtics     0.0       PG  25.0    6-2   180.0   \n",
       "1      Jae Crowder  Boston Celtics    99.0       SF  25.0    6-6   235.0   \n",
       "2     John Holland  Boston Celtics    30.0       SG  27.0    6-5   205.0   \n",
       "3      R.J. Hunter  Boston Celtics    28.0       SG  22.0    6-5   185.0   \n",
       "4    Jonas Jerebko  Boston Celtics     8.0       PF  29.0   6-10   231.0   \n",
       "..             ...             ...     ...      ...   ...    ...     ...   \n",
       "453   Shelvin Mack       Utah Jazz     8.0       PG  26.0    6-3   203.0   \n",
       "454      Raul Neto       Utah Jazz    25.0       PG  24.0    6-1   179.0   \n",
       "455   Tibor Pleiss       Utah Jazz    21.0        C  26.0    7-3   256.0   \n",
       "456    Jeff Withey       Utah Jazz    24.0        C  26.0    7-0   231.0   \n",
       "457            NaN             NaN     NaN      NaN   NaN    NaN     NaN   \n",
       "\n",
       "               College     Salary  \n",
       "0                Texas  7730337.0  \n",
       "1            Marquette  6796117.0  \n",
       "2    Boston University        NaN  \n",
       "3        Georgia State  1148640.0  \n",
       "4                  NaN  5000000.0  \n",
       "..                 ...        ...  \n",
       "453             Butler  2433333.0  \n",
       "454                NaN   900000.0  \n",
       "455                NaN  2900000.0  \n",
       "456             Kansas   947276.0  \n",
       "457                NaN        NaN  \n",
       "\n",
       "[458 rows x 9 columns]"
      ]
     },
     "execution_count": 10,
     "metadata": {},
     "output_type": "execute_result"
    }
   ],
   "source": [
    "df=pd.read_csv(\"nba.csv\")\n",
    "df\n"
   ]
  },
  {
   "cell_type": "code",
   "execution_count": 18,
   "metadata": {},
   "outputs": [
    {
     "name": "stdout",
     "output_type": "stream",
     "text": [
      "mean: Age    26.938731\n",
      "dtype: float64\n",
      "min: Age    19.0\n",
      "dtype: float64\n",
      "max: Age    40.0\n",
      "dtype: float64\n",
      "std: Age    4.404016\n",
      "dtype: float64\n"
     ]
    }
   ],
   "source": [
    "mean_age= df[['Age']].mean()\n",
    "print(\"mean:\",mean_age)\n",
    "min_age=df[['Age']].min()\n",
    "print(\"min:\",min_age)\n",
    "max_age=df[['Age']].max()\n",
    "print(\"max:\",max_age)\n",
    "std_age=df[['Age']].std()\n",
    "print(\"std:\",std_age)\n"
   ]
  },
  {
   "cell_type": "code",
   "execution_count": 19,
   "metadata": {},
   "outputs": [
    {
     "name": "stdout",
     "output_type": "stream",
     "text": [
      "mean: Salary    4.842684e+06\n",
      "dtype: float64\n",
      "min: Salary    30888.0\n",
      "dtype: float64\n",
      "max: Salary    25000000.0\n",
      "dtype: float64\n",
      "std: Salary    5.229238e+06\n",
      "dtype: float64\n"
     ]
    }
   ],
   "source": [
    "mean_Salary= df[['Salary']].mean()\n",
    "print(\"mean:\",mean_Salary)\n",
    "min_Salary=df[['Salary']].min()\n",
    "print(\"min:\",min_Salary)\n",
    "max_Salary=df[['Salary']].max()\n",
    "print(\"max:\",max_Salary)\n",
    "std_Salary=df[['Salary']].std()\n",
    "print(\"std:\",std_Salary)"
   ]
  },
  {
   "cell_type": "code",
   "execution_count": 55,
   "metadata": {},
   "outputs": [
    {
     "name": "stdout",
     "output_type": "stream",
     "text": [
      "Team\n",
      "Atlanta Hawks             4.860197e+06\n",
      "Boston Celtics            4.181505e+06\n",
      "Brooklyn Nets             3.501898e+06\n",
      "Charlotte Hornets         5.222728e+06\n",
      "Chicago Bulls             5.785559e+06\n",
      "Cleveland Cavaliers       7.642049e+06\n",
      "Dallas Mavericks          4.746582e+06\n",
      "Denver Nuggets            4.294424e+06\n",
      "Detroit Pistons           4.477884e+06\n",
      "Golden State Warriors     5.924600e+06\n",
      "Houston Rockets           5.018868e+06\n",
      "Indiana Pacers            4.450122e+06\n",
      "Los Angeles Clippers      6.323643e+06\n",
      "Los Angeles Lakers        4.784695e+06\n",
      "Memphis Grizzlies         5.467920e+06\n",
      "Miami Heat                6.347359e+06\n",
      "Milwaukee Bucks           4.350220e+06\n",
      "Minnesota Timberwolves    4.593054e+06\n",
      "New Orleans Pelicans      4.355304e+06\n",
      "New York Knicks           4.581494e+06\n",
      "Oklahoma City Thunder     6.251020e+06\n",
      "Orlando Magic             4.297248e+06\n",
      "Philadelphia 76ers        2.213778e+06\n",
      "Phoenix Suns              4.229676e+06\n",
      "Portland Trail Blazers    3.220121e+06\n",
      "Sacramento Kings          4.778911e+06\n",
      "San Antonio Spurs         5.629516e+06\n",
      "Toronto Raptors           4.741174e+06\n",
      "Utah Jazz                 4.204006e+06\n",
      "Washington Wizards        5.088576e+06\n",
      "Name: Salary, dtype: float64\n"
     ]
    }
   ],
   "source": [
    "\n",
    "# df.dropna(subset=\"Salary\",inplace=True)\n",
    "# null=df[['Salary']].isnull().sum()\n",
    "# print(null)\n",
    "data=df.groupby([\"Team\"])[\"Salary\"].mean()\n",
    "print(data)\n"
   ]
  },
  {
   "cell_type": "code",
   "execution_count": 56,
   "metadata": {},
   "outputs": [
    {
     "name": "stdout",
     "output_type": "stream",
     "text": [
      "Team\n",
      "Atlanta Hawks             35.0\n",
      "Boston Celtics            29.0\n",
      "Brooklyn Nets             32.0\n",
      "Charlotte Hornets         31.0\n",
      "Chicago Bulls             35.0\n",
      "Cleveland Cavaliers       35.0\n",
      "Dallas Mavericks          37.0\n",
      "Denver Nuggets            36.0\n",
      "Detroit Pistons           36.0\n",
      "Golden State Warriors     33.0\n",
      "Houston Rockets           38.0\n",
      "Indiana Pacers            30.0\n",
      "Los Angeles Clippers      39.0\n",
      "Los Angeles Lakers        37.0\n",
      "Memphis Grizzlies         39.0\n",
      "Miami Heat                36.0\n",
      "Milwaukee Bucks           32.0\n",
      "Minnesota Timberwolves    40.0\n",
      "New Orleans Pelicans      31.0\n",
      "New York Knicks           34.0\n",
      "Oklahoma City Thunder     38.0\n",
      "Orlando Magic             32.0\n",
      "Philadelphia 76ers        32.0\n",
      "Phoenix Suns              33.0\n",
      "Portland Trail Blazers    34.0\n",
      "Sacramento Kings          36.0\n",
      "San Antonio Spurs         40.0\n",
      "Toronto Raptors           36.0\n",
      "Utah Jazz                 28.0\n",
      "Washington Wizards        34.0\n",
      "Name: Age, dtype: float64\n"
     ]
    }
   ],
   "source": [
    "data=df.groupby([\"Team\"])[\"Age\"].max()\n",
    "print(data)\n"
   ]
  },
  {
   "cell_type": "code",
   "execution_count": 57,
   "metadata": {},
   "outputs": [
    {
     "name": "stdout",
     "output_type": "stream",
     "text": [
      "Team\n",
      "Atlanta Hawks             18671659.0\n",
      "Boston Celtics            12000000.0\n",
      "Brooklyn Nets             19689000.0\n",
      "Charlotte Hornets         13500000.0\n",
      "Chicago Bulls             20093064.0\n",
      "Cleveland Cavaliers       22970500.0\n",
      "Dallas Mavericks          16407500.0\n",
      "Denver Nuggets            14000000.0\n",
      "Detroit Pistons           16000000.0\n",
      "Golden State Warriors     15501000.0\n",
      "Houston Rockets           22359364.0\n",
      "Indiana Pacers            17120106.0\n",
      "Los Angeles Clippers      21468695.0\n",
      "Los Angeles Lakers        25000000.0\n",
      "Memphis Grizzlies         19688000.0\n",
      "Miami Heat                22192730.0\n",
      "Milwaukee Bucks           16407500.0\n",
      "Minnesota Timberwolves    12700000.0\n",
      "New Orleans Pelicans      15514031.0\n",
      "New York Knicks           22875000.0\n",
      "Oklahoma City Thunder     20158622.0\n",
      "Orlando Magic             11250000.0\n",
      "Philadelphia 76ers         6500000.0\n",
      "Phoenix Suns              13500000.0\n",
      "Portland Trail Blazers     8042895.0\n",
      "Sacramento Kings          15851950.0\n",
      "San Antonio Spurs         19689000.0\n",
      "Toronto Raptors           13600000.0\n",
      "Utah Jazz                 15409570.0\n",
      "Washington Wizards        15851950.0\n",
      "Name: Salary, dtype: float64\n"
     ]
    }
   ],
   "source": [
    "data=df.groupby([\"Team\"])[\"Salary\"].max()\n",
    "print(data)\n"
   ]
  },
  {
   "cell_type": "code",
   "execution_count": 59,
   "metadata": {},
   "outputs": [
    {
     "name": "stdout",
     "output_type": "stream",
     "text": [
      "College\n",
      "Alabama              2100000.0\n",
      "Arizona             11710456.0\n",
      "Arizona State       15756438.0\n",
      "Arkansas             6486486.0\n",
      "Baylor                981348.0\n",
      "                       ...    \n",
      "Western Michigan      845059.0\n",
      "Wichita State         845059.0\n",
      "Wisconsin            4053446.0\n",
      "Wyoming              1155600.0\n",
      "Xavier               1499187.0\n",
      "Name: Salary, Length: 115, dtype: float64\n"
     ]
    }
   ],
   "source": [
    "data=df.groupby([\"College\"])[\"Salary\"].max()\n",
    "print(data)\n"
   ]
  },
  {
   "cell_type": "code",
   "execution_count": 60,
   "metadata": {},
   "outputs": [
    {
     "name": "stdout",
     "output_type": "stream",
     "text": [
      "Position\n",
      "C     5.787989e+06\n",
      "PF    4.800054e+06\n",
      "PG    5.051809e+06\n",
      "SF    6.011889e+06\n",
      "SG    4.491609e+06\n",
      "Name: Salary, dtype: float64\n"
     ]
    }
   ],
   "source": [
    "data=df.groupby([\"Position\"])[\"Salary\"].std()\n",
    "print(data)\n"
   ]
  },
  {
   "cell_type": "code",
   "execution_count": 63,
   "metadata": {},
   "outputs": [
    {
     "data": {
      "text/plain": [
       "<AxesSubplot:ylabel='Density'>"
      ]
     },
     "execution_count": 63,
     "metadata": {},
     "output_type": "execute_result"
    },
    {
     "data": {
      "image/png": "[encoded data removed]",
      "text/plain": [
       "<Figure size 432x288 with 1 Axes>"
      ]
     },
     "metadata": {
      "needs_background": "light"
     },
     "output_type": "display_data"
    }
   ],
   "source": [
    "df[[\"Age\"]].plot(kind=\"kde\")"
   ]
  }
 ],
 "metadata": {
  "kernelspec": {
   "display_name": "Python 3",
   "language": "python",
   "name": "python3"
  },
  "language_info": {
   "codemirror_mode": {
    "name": "ipython",
    "version": 3
   },
   "file_extension": ".py",
   "mimetype": "text/x-python",
   "name": "python",
   "nbconvert_exporter": "python",
   "pygments_lexer": "ipython3",
   "version": "3.10.2"
  }
 },
 "nbformat": 4,
 "nbformat_minor": 2
}
